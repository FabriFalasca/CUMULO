{
 "cells": [
  {
   "cell_type": "markdown",
   "metadata": {},
   "source": [
    "# Data Pipeline\n",
    "The data pipeline involves three discrete steps:\n",
    "1. pulling the data from the bucket\n",
    "2. extracting the swath data\n",
    "3. extract the sample tiles\n",
    "\n",
    "### Libraries\n",
    "Two custom modules are used, the `create_modis` module contains the hdf to numpy array code, and the `GCP_Tools` module contains all of the bucket interaction code. Both are in a parent directory, so `sys` is used to append a temporary path to the parent folder.\n",
    "\n",
    "% ToDo dependencies"
   ]
  },
  {
   "cell_type": "code",
   "execution_count": 82,
   "metadata": {},
   "outputs": [],
   "source": [
    "import sys\n",
    "sys.path.append(\"..\")"
   ]
  },
  {
   "cell_type": "code",
   "execution_count": 7,
   "metadata": {},
   "outputs": [],
   "source": [
    "import create_modis\n",
    "from GCP_Tools import GcpDataTools"
   ]
  },
  {
   "cell_type": "markdown",
   "metadata": {},
   "source": [
    "## Data Download\n",
    "We will need a folder of `.hdf` MODIS files to develop and trial out pipeline. Our `GCP_Tools` module will handle the downloading for us - we just need to initialise it, provide our connection information and define the folder we wand and where to save it.\n",
    "\n",
    "We're using a small JSON to provide our connection details, which looks like this:\n",
    "\n",
    "```json\n",
    "{\n",
    "    \"project_name\": \"fdl-europe-atmosphere-team\",\n",
    "    \"bucket_name\": \"fdl-europe-atmos-bucket\"\n",
    "}\n",
    "```\n",
    "\n",
    "First, we initialise it and pass the connection details"
   ]
  },
  {
   "cell_type": "code",
   "execution_count": 8,
   "metadata": {},
   "outputs": [
    {
     "name": "stdout",
     "output_type": "stream",
     "text": [
      "connection to fdl_europe_atmos_bucket on fdl-europe-atmosphere established\n"
     ]
    }
   ],
   "source": [
    "gcp_wrapper = GcpDataTools()\n",
    "gcp_wrapper.connect(\"../atmos_bucket_details.json\")"
   ]
  },
  {
   "cell_type": "markdown",
   "metadata": {},
   "source": [
    "Next, we query down the structure and find a good directory of MODIS data. Note that without a path, it will provide the bucket's top-level directory."
   ]
  },
  {
   "cell_type": "code",
   "execution_count": 9,
   "metadata": {},
   "outputs": [
    {
     "name": "stdout",
     "output_type": "stream",
     "text": [
      "Your path is fdl_europe_atmos_bucket/\n"
     ]
    },
    {
     "data": {
      "text/plain": [
       "['fdl_europe_atmos_bucket/mod06-aux/',\n",
       " 'fdl_europe_atmos_bucket/Fabri_Tests/',\n",
       " 'fdl_europe_atmos_bucket/peruvian_sc/',\n",
       " 'fdl_europe_atmos_bucket/modis-l1-aqua/',\n",
       " 'fdl_europe_atmos_bucket/results/',\n",
       " 'fdl_europe_atmos_bucket/modis-l1/',\n",
       " 'fdl_europe_atmos_bucket/naip_trained.ckpt']"
      ]
     },
     "execution_count": 9,
     "metadata": {},
     "output_type": "execute_result"
    }
   ],
   "source": [
    "gcp_wrapper.list_directory()"
   ]
  },
  {
   "cell_type": "code",
   "execution_count": 10,
   "metadata": {},
   "outputs": [
    {
     "name": "stdout",
     "output_type": "stream",
     "text": [
      "Your path is fdl_europe_atmos_bucket/modis-l1/2008/2008\n"
     ]
    },
    {
     "data": {
      "text/plain": [
       "['fdl_europe_atmos_bucket/modis-l1/2008/2008/108/',\n",
       " 'fdl_europe_atmos_bucket/modis-l1/2008/2008/289/',\n",
       " 'fdl_europe_atmos_bucket/modis-l1/2008/2008/101/',\n",
       " 'fdl_europe_atmos_bucket/modis-l1/2008/2008/315/',\n",
       " 'fdl_europe_atmos_bucket/modis-l1/2008/2008/198/',\n",
       " 'fdl_europe_atmos_bucket/modis-l1/2008/2008/321/',\n",
       " 'fdl_europe_atmos_bucket/modis-l1/2008/2008/113/',\n",
       " 'fdl_europe_atmos_bucket/modis-l1/2008/2008/292/',\n",
       " 'fdl_europe_atmos_bucket/modis-l1/2008/2008/178/',\n",
       " 'fdl_europe_atmos_bucket/modis-l1/2008/2008/176/',\n",
       " 'fdl_europe_atmos_bucket/modis-l1/2008/2008/110/',\n",
       " 'fdl_europe_atmos_bucket/modis-l1/2008/2008/254/',\n",
       " 'fdl_europe_atmos_bucket/modis-l1/2008/2008/134/',\n",
       " 'fdl_europe_atmos_bucket/modis-l1/2008/2008/087/',\n",
       " 'fdl_europe_atmos_bucket/modis-l1/2008/2008/304/',\n",
       " 'fdl_europe_atmos_bucket/modis-l1/2008/2008/300/',\n",
       " 'fdl_europe_atmos_bucket/modis-l1/2008/2008/308/',\n",
       " 'fdl_europe_atmos_bucket/modis-l1/2008/2008/096/',\n",
       " 'fdl_europe_atmos_bucket/modis-l1/2008/2008/303/',\n",
       " 'fdl_europe_atmos_bucket/modis-l1/2008/2008/309/',\n",
       " 'fdl_europe_atmos_bucket/modis-l1/2008/2008/348/',\n",
       " 'fdl_europe_atmos_bucket/modis-l1/2008/2008/104/',\n",
       " 'fdl_europe_atmos_bucket/modis-l1/2008/2008/318/',\n",
       " 'fdl_europe_atmos_bucket/modis-l1/2008/2008/175/',\n",
       " 'fdl_europe_atmos_bucket/modis-l1/2008/2008/186/',\n",
       " 'fdl_europe_atmos_bucket/modis-l1/2008/2008/127/',\n",
       " 'fdl_europe_atmos_bucket/modis-l1/2008/2008/130/',\n",
       " 'fdl_europe_atmos_bucket/modis-l1/2008/2008/305/',\n",
       " 'fdl_europe_atmos_bucket/modis-l1/2008/2008/114/',\n",
       " 'fdl_europe_atmos_bucket/modis-l1/2008/2008/109/',\n",
       " 'fdl_europe_atmos_bucket/modis-l1/2008/2008/185/',\n",
       " 'fdl_europe_atmos_bucket/modis-l1/2008/2008/180/',\n",
       " 'fdl_europe_atmos_bucket/modis-l1/2008/2008/226/',\n",
       " 'fdl_europe_atmos_bucket/modis-l1/2008/2008/173/',\n",
       " 'fdl_europe_atmos_bucket/modis-l1/2008/2008/135/',\n",
       " 'fdl_europe_atmos_bucket/modis-l1/2008/2008/320/',\n",
       " 'fdl_europe_atmos_bucket/modis-l1/2008/2008/314/',\n",
       " 'fdl_europe_atmos_bucket/modis-l1/2008/2008/131/',\n",
       " 'fdl_europe_atmos_bucket/modis-l1/2008/2008/228/',\n",
       " 'fdl_europe_atmos_bucket/modis-l1/2008/2008/058/',\n",
       " 'fdl_europe_atmos_bucket/modis-l1/2008/2008/199/',\n",
       " 'fdl_europe_atmos_bucket/modis-l1/2008/2008/111/',\n",
       " 'fdl_europe_atmos_bucket/modis-l1/2008/2008/098/',\n",
       " 'fdl_europe_atmos_bucket/modis-l1/2008/2008/133/',\n",
       " 'fdl_europe_atmos_bucket/modis-l1/2008/2008/088/',\n",
       " 'fdl_europe_atmos_bucket/modis-l1/2008/2008/139/',\n",
       " 'fdl_europe_atmos_bucket/modis-l1/2008/2008/346/',\n",
       " 'fdl_europe_atmos_bucket/modis-l1/2008/2008/291/',\n",
       " 'fdl_europe_atmos_bucket/modis-l1/2008/2008/195/',\n",
       " 'fdl_europe_atmos_bucket/modis-l1/2008/2008/192/',\n",
       " 'fdl_europe_atmos_bucket/modis-l1/2008/2008/142/',\n",
       " 'fdl_europe_atmos_bucket/modis-l1/2008/2008/188/',\n",
       " 'fdl_europe_atmos_bucket/modis-l1/2008/2008/099/',\n",
       " 'fdl_europe_atmos_bucket/modis-l1/2008/2008/100/',\n",
       " 'fdl_europe_atmos_bucket/modis-l1/2008/2008/123/',\n",
       " 'fdl_europe_atmos_bucket/modis-l1/2008/2008/093/',\n",
       " 'fdl_europe_atmos_bucket/modis-l1/2008/2008/092/',\n",
       " 'fdl_europe_atmos_bucket/modis-l1/2008/2008/197/',\n",
       " 'fdl_europe_atmos_bucket/modis-l1/2008/2008/170/',\n",
       " 'fdl_europe_atmos_bucket/modis-l1/2008/2008/316/',\n",
       " 'fdl_europe_atmos_bucket/modis-l1/2008/2008/179/',\n",
       " 'fdl_europe_atmos_bucket/modis-l1/2008/2008/310/',\n",
       " 'fdl_europe_atmos_bucket/modis-l1/2008/2008/056/',\n",
       " 'fdl_europe_atmos_bucket/modis-l1/2008/2008/256/',\n",
       " 'fdl_europe_atmos_bucket/modis-l1/2008/2008/105/',\n",
       " 'fdl_europe_atmos_bucket/modis-l1/2008/2008/112/',\n",
       " 'fdl_europe_atmos_bucket/modis-l1/2008/2008/301/',\n",
       " 'fdl_europe_atmos_bucket/modis-l1/2008/2008/317/',\n",
       " 'fdl_europe_atmos_bucket/modis-l1/2008/2008/190/',\n",
       " 'fdl_europe_atmos_bucket/modis-l1/2008/2008/191/',\n",
       " 'fdl_europe_atmos_bucket/modis-l1/2008/2008/089/',\n",
       " 'fdl_europe_atmos_bucket/modis-l1/2008/2008/129/',\n",
       " 'fdl_europe_atmos_bucket/modis-l1/2008/2008/150/',\n",
       " 'fdl_europe_atmos_bucket/modis-l1/2008/2008/103/',\n",
       " 'fdl_europe_atmos_bucket/modis-l1/2008/2008/094/',\n",
       " 'fdl_europe_atmos_bucket/modis-l1/2008/2008/177/',\n",
       " 'fdl_europe_atmos_bucket/modis-l1/2008/2008/107/',\n",
       " 'fdl_europe_atmos_bucket/modis-l1/2008/2008/149/',\n",
       " 'fdl_europe_atmos_bucket/modis-l1/2008/2008/307/',\n",
       " 'fdl_europe_atmos_bucket/modis-l1/2008/2008/097/',\n",
       " 'fdl_europe_atmos_bucket/modis-l1/2008/2008/295/',\n",
       " 'fdl_europe_atmos_bucket/modis-l1/2008/2008/187/',\n",
       " 'fdl_europe_atmos_bucket/modis-l1/2008/2008/095/',\n",
       " 'fdl_europe_atmos_bucket/modis-l1/2008/2008/116/',\n",
       " 'fdl_europe_atmos_bucket/modis-l1/2008/2008/174/',\n",
       " 'fdl_europe_atmos_bucket/modis-l1/2008/2008/347/',\n",
       " 'fdl_europe_atmos_bucket/modis-l1/2008/2008/290/',\n",
       " 'fdl_europe_atmos_bucket/modis-l1/2008/2008/311/',\n",
       " 'fdl_europe_atmos_bucket/modis-l1/2008/2008/143/',\n",
       " 'fdl_europe_atmos_bucket/modis-l1/2008/2008/102/',\n",
       " 'fdl_europe_atmos_bucket/modis-l1/2008/2008/057/',\n",
       " 'fdl_europe_atmos_bucket/modis-l1/2008/2008/182/',\n",
       " 'fdl_europe_atmos_bucket/modis-l1/2008/2008/106/',\n",
       " 'fdl_europe_atmos_bucket/modis-l1/2008/2008/115/',\n",
       " 'fdl_europe_atmos_bucket/modis-l1/2008/2008/171/',\n",
       " 'fdl_europe_atmos_bucket/modis-l1/2008/2008/189/',\n",
       " 'fdl_europe_atmos_bucket/modis-l1/2008/2008/128/',\n",
       " 'fdl_europe_atmos_bucket/modis-l1/2008/2008/086/',\n",
       " 'fdl_europe_atmos_bucket/modis-l1/2008/2008/255/',\n",
       " 'fdl_europe_atmos_bucket/modis-l1/2008/2008/299/',\n",
       " 'fdl_europe_atmos_bucket/modis-l1/2008/2008/184/',\n",
       " 'fdl_europe_atmos_bucket/modis-l1/2008/2008/312/',\n",
       " 'fdl_europe_atmos_bucket/modis-l1/2008/2008/172/',\n",
       " 'fdl_europe_atmos_bucket/modis-l1/2008/2008/181/',\n",
       " 'fdl_europe_atmos_bucket/modis-l1/2008/2008/227/',\n",
       " 'fdl_europe_atmos_bucket/modis-l1/2008/2008/319/',\n",
       " 'fdl_europe_atmos_bucket/modis-l1/2008/2008/151/',\n",
       " 'fdl_europe_atmos_bucket/modis-l1/2008/2008/302/']"
      ]
     },
     "execution_count": 10,
     "metadata": {},
     "output_type": "execute_result"
    }
   ],
   "source": [
    "gcp_wrapper.list_directory(\"modis-l1/2008/2008\")"
   ]
  },
  {
   "cell_type": "code",
   "execution_count": 11,
   "metadata": {},
   "outputs": [
    {
     "name": "stdout",
     "output_type": "stream",
     "text": [
      "Your path is fdl_europe_atmos_bucket/modis-l1/2008/2008/057\n"
     ]
    },
    {
     "data": {
      "text/plain": [
       "['fdl_europe_atmos_bucket/modis-l1/2008/2008/057/MOD03.A2008057.0525.061.2017255010033.hdf',\n",
       " 'fdl_europe_atmos_bucket/modis-l1/2008/2008/057/MOD021KM.A2008057.0700.061.2017255035619.hdf',\n",
       " 'fdl_europe_atmos_bucket/modis-l1/2008/2008/057/MOD03.A2008057.0840.061.2017255005954.hdf',\n",
       " 'fdl_europe_atmos_bucket/modis-l1/2008/2008/057/MOD03.A2008057.0700.061.2017255010039.hdf',\n",
       " 'fdl_europe_atmos_bucket/modis-l1/2008/2008/057/MOD021KM.A2008057.0525.061.2017255035638.hdf',\n",
       " 'fdl_europe_atmos_bucket/modis-l1/2008/2008/057/MOD021KM.A2008057.0215.061.2017255035524.hdf',\n",
       " 'fdl_europe_atmos_bucket/modis-l1/2008/2008/057/MOD021KM.A2008057.0345.061.2017255035604.hdf',\n",
       " 'fdl_europe_atmos_bucket/modis-l1/2008/2008/057/MOD03.A2008057.0350.061.2017255005942.hdf',\n",
       " 'fdl_europe_atmos_bucket/modis-l1/2008/2008/057/MOD021KM.A2008057.0210.061.2017255035742.hdf',\n",
       " 'fdl_europe_atmos_bucket/modis-l1/2008/2008/057/MOD03.A2008057.0210.061.2017255005917.hdf',\n",
       " 'fdl_europe_atmos_bucket/modis-l1/2008/2008/057/MOD03.A2008057.0520.061.2017255010034.hdf',\n",
       " 'fdl_europe_atmos_bucket/modis-l1/2008/2008/057/MOD021KM.A2008057.0520.061.2017255035814.hdf',\n",
       " 'fdl_europe_atmos_bucket/modis-l1/2008/2008/057/MOD021KM.A2008057.0350.061.2017255035558.hdf',\n",
       " 'fdl_europe_atmos_bucket/modis-l1/2008/2008/057/MOD03.A2008057.0345.061.2017255010136.hdf',\n",
       " 'fdl_europe_atmos_bucket/modis-l1/2008/2008/057/MOD021KM.A2008057.0840.061.2017255035846.hdf',\n",
       " 'fdl_europe_atmos_bucket/modis-l1/2008/2008/057/MOD03.A2008057.0215.061.2017255005922.hdf']"
      ]
     },
     "execution_count": 11,
     "metadata": {},
     "output_type": "execute_result"
    }
   ],
   "source": [
    "gcp_wrapper.list_directory(\"modis-l1/2008/2008/057\")"
   ]
  },
  {
   "cell_type": "markdown",
   "metadata": {},
   "source": [
    "Day 57 seems to hold enough data for a trial - Now we can pull the files down, using the `GcpDataTools.get_data_directory()` method."
   ]
  },
  {
   "cell_type": "code",
   "execution_count": 12,
   "metadata": {},
   "outputs": [
    {
     "name": "stdout",
     "output_type": "stream",
     "text": [
      "path: ../DATA//modis-l1/2008/2008/056 already exists, not created\n",
      "path: ../DATA//modis-l1/2008/2008/056 already exists, not created\n",
      "path: ../DATA//modis-l1/2008/2008/056 already exists, not created\n",
      "path: ../DATA//modis-l1/2008/2008/056 already exists, not created\n",
      "path: ../DATA//modis-l1/2008/2008/056 already exists, not created\n",
      "fdl_europe_atmos_bucket/modis-l1/2008/2008/056/MOD021KM.A2008056.0755.061.2017255070653.hdf\n",
      "fdl_europe_atmos_bucket/modis-l1/2008/2008/056/MOD021KM.A2008056.0935.061.2017255070241.hdf\n",
      "fdl_europe_atmos_bucket/modis-l1/2008/2008/056/MOD021KM.A2008056.1115.061.2017255070329.hdf\n",
      "fdl_europe_atmos_bucket/modis-l1/2008/2008/056/MOD03.A2008056.0755.061.2017255030609.hdf\n",
      "fdl_europe_atmos_bucket/modis-l1/2008/2008/056/MOD03.A2008056.0935.061.2017255030503.hdf\n",
      "fdl_europe_atmos_bucket/modis-l1/2008/2008/056/MOD03.A2008056.1115.061.2017255030626.hdf\n",
      "getting file from fdl_europe_atmos_bucket/modis-l1/2008/2008/056/MOD021KM.A2008056.0755.061.2017255070653.hdf to ../DATA//modis-l1/2008/2008/056\\MOD021KM.A2008056.0755.061.2017255070653.hdf\n",
      "getting file from fdl_europe_atmos_bucket/modis-l1/2008/2008/056/MOD021KM.A2008056.0935.061.2017255070241.hdf to ../DATA//modis-l1/2008/2008/056\\MOD021KM.A2008056.0935.061.2017255070241.hdf\n",
      "getting file from fdl_europe_atmos_bucket/modis-l1/2008/2008/056/MOD021KM.A2008056.1115.061.2017255070329.hdf to ../DATA//modis-l1/2008/2008/056\\MOD021KM.A2008056.1115.061.2017255070329.hdf\n",
      "getting file from fdl_europe_atmos_bucket/modis-l1/2008/2008/056/MOD03.A2008056.0755.061.2017255030609.hdf to ../DATA//modis-l1/2008/2008/056\\MOD03.A2008056.0755.061.2017255030609.hdf\n",
      "getting file from fdl_europe_atmos_bucket/modis-l1/2008/2008/056/MOD03.A2008056.0935.061.2017255030503.hdf to ../DATA//modis-l1/2008/2008/056\\MOD03.A2008056.0935.061.2017255030503.hdf\n",
      "getting file from fdl_europe_atmos_bucket/modis-l1/2008/2008/056/MOD03.A2008056.1115.061.2017255030626.hdf to ../DATA//modis-l1/2008/2008/056\\MOD03.A2008056.1115.061.2017255030626.hdf\n",
      "\n",
      "\n",
      "Mirror down completed\n"
     ]
    }
   ],
   "source": [
    "gcp_wrapper.get_data_directory(bucketpath=\"modis-l1/2008/2008/056\", output_dir=\"../DATA/\")"
   ]
  },
  {
   "cell_type": "markdown",
   "metadata": {},
   "source": [
    "## Extracting images\n",
    "\n",
    "Now we extract the iamges from the downloaded `hdf` files, with the custom `extract_modis` module, providing the data directory and an output directory."
   ]
  },
  {
   "cell_type": "code",
   "execution_count": 83,
   "metadata": {},
   "outputs": [],
   "source": [
    "import create_modis"
   ]
  },
  {
   "cell_type": "code",
   "execution_count": 67,
   "metadata": {},
   "outputs": [
    {
     "name": "stdout",
     "output_type": "stream",
     "text": [
      "0\n",
      "0\n",
      "0\n",
      "6\n",
      "16\n"
     ]
    }
   ],
   "source": [
    "for root, dirs, files in os.walk(\"../DATA/modis-l1/\"):\n",
    "    print(len(files))"
   ]
  },
  {
   "cell_type": "code",
   "execution_count": 86,
   "metadata": {},
   "outputs": [],
   "source": [
    "test_paths = []\n",
    "for path, subdirs, files in os.walk(\"../DATA/modis-l1\"):\n",
    "        for file in files:\n",
    "            test_paths.append(os.path.join(path, file))"
   ]
  },
  {
   "cell_type": "code",
   "execution_count": 87,
   "metadata": {},
   "outputs": [
    {
     "data": {
      "text/plain": [
       "['../DATA/modis-l1\\\\2008\\\\2008\\\\056\\\\MOD021KM.A2008056.0755.061.2017255070653.hdf',\n",
       " '../DATA/modis-l1\\\\2008\\\\2008\\\\056\\\\MOD021KM.A2008056.0935.061.2017255070241.hdf',\n",
       " '../DATA/modis-l1\\\\2008\\\\2008\\\\056\\\\MOD021KM.A2008056.1115.061.2017255070329.hdf',\n",
       " '../DATA/modis-l1\\\\2008\\\\2008\\\\056\\\\MOD03.A2008056.0755.061.2017255030609.hdf',\n",
       " '../DATA/modis-l1\\\\2008\\\\2008\\\\056\\\\MOD03.A2008056.0935.061.2017255030503.hdf',\n",
       " '../DATA/modis-l1\\\\2008\\\\2008\\\\056\\\\MOD03.A2008056.1115.061.2017255030626.hdf',\n",
       " '../DATA/modis-l1\\\\2008\\\\2008\\\\057\\\\MOD021KM.A2008057.0210.061.2017255035742.hdf',\n",
       " '../DATA/modis-l1\\\\2008\\\\2008\\\\057\\\\MOD021KM.A2008057.0215.061.2017255035524.hdf',\n",
       " '../DATA/modis-l1\\\\2008\\\\2008\\\\057\\\\MOD021KM.A2008057.0345.061.2017255035604.hdf',\n",
       " '../DATA/modis-l1\\\\2008\\\\2008\\\\057\\\\MOD021KM.A2008057.0350.061.2017255035558.hdf',\n",
       " '../DATA/modis-l1\\\\2008\\\\2008\\\\057\\\\MOD021KM.A2008057.0520.061.2017255035814.hdf',\n",
       " '../DATA/modis-l1\\\\2008\\\\2008\\\\057\\\\MOD021KM.A2008057.0525.061.2017255035638.hdf',\n",
       " '../DATA/modis-l1\\\\2008\\\\2008\\\\057\\\\MOD021KM.A2008057.0700.061.2017255035619.hdf',\n",
       " '../DATA/modis-l1\\\\2008\\\\2008\\\\057\\\\MOD021KM.A2008057.0840.061.2017255035846.hdf',\n",
       " '../DATA/modis-l1\\\\2008\\\\2008\\\\057\\\\MOD03.A2008057.0210.061.2017255005917.hdf',\n",
       " '../DATA/modis-l1\\\\2008\\\\2008\\\\057\\\\MOD03.A2008057.0215.061.2017255005922.hdf',\n",
       " '../DATA/modis-l1\\\\2008\\\\2008\\\\057\\\\MOD03.A2008057.0345.061.2017255010136.hdf',\n",
       " '../DATA/modis-l1\\\\2008\\\\2008\\\\057\\\\MOD03.A2008057.0350.061.2017255005942.hdf',\n",
       " '../DATA/modis-l1\\\\2008\\\\2008\\\\057\\\\MOD03.A2008057.0520.061.2017255010034.hdf',\n",
       " '../DATA/modis-l1\\\\2008\\\\2008\\\\057\\\\MOD03.A2008057.0525.061.2017255010033.hdf',\n",
       " '../DATA/modis-l1\\\\2008\\\\2008\\\\057\\\\MOD03.A2008057.0700.061.2017255010039.hdf',\n",
       " '../DATA/modis-l1\\\\2008\\\\2008\\\\057\\\\MOD03.A2008057.0840.061.2017255005954.hdf']"
      ]
     },
     "execution_count": 87,
     "metadata": {},
     "output_type": "execute_result"
    }
   ],
   "source": [
    "test_paths"
   ]
  },
  {
   "cell_type": "code",
   "execution_count": 63,
   "metadata": {},
   "outputs": [
    {
     "data": {
      "text/plain": [
       "{'../DATA/output'}"
      ]
     },
     "execution_count": 63,
     "metadata": {},
     "output_type": "execute_result"
    }
   ],
   "source": [
    "modis_paths = []\n",
    "\n",
    "\n",
    "        modis_paths.append(os.path.join(roots, file))\n",
    "\n",
    "        \n",
    "source_dirs = set()\n",
    "for path in modis_paths:\n",
    "    head, tail = os.path.split(path)\n",
    "    source_dirs.add(head)\n",
    "\n",
    "source_dirs"
   ]
  },
  {
   "cell_type": "code",
   "execution_count": 71,
   "metadata": {},
   "outputs": [
    {
     "name": "stderr",
     "output_type": "stream",
     "text": [
      "Don't know how to open the following files: {'../DATA/modis-l1/2008/2008/057\\\\MOD021KM.A2008057.0210.061.2017255035742.hdf', '../DATA/modis-l1/2008/2008/057\\\\MOD03.A2008057.0210.061.2017255005917.hdf'}\n"
     ]
    },
    {
     "ename": "ValueError",
     "evalue": "No supported files found",
     "output_type": "error",
     "traceback": [
      "\u001b[1;31m---------------------------------------------------------------------------\u001b[0m",
      "\u001b[1;31mValueError\u001b[0m                                Traceback (most recent call last)",
      "\u001b[1;32m<ipython-input-71-bb61bd78b990>\u001b[0m in \u001b[0;36m<module>\u001b[1;34m\u001b[0m\n\u001b[1;32m----> 1\u001b[1;33m \u001b[0mcreate_modis\u001b[0m\u001b[1;33m.\u001b[0m\u001b[0mrun\u001b[0m\u001b[1;33m(\u001b[0m\u001b[0mpath\u001b[0m\u001b[1;33m=\u001b[0m\u001b[1;34m\"../DATA/modis-l1/2008/2008/057/\"\u001b[0m\u001b[1;33m,\u001b[0m \u001b[0msave_dir\u001b[0m\u001b[1;33m=\u001b[0m\u001b[1;34m\"../DATA/output/\"\u001b[0m\u001b[1;33m)\u001b[0m\u001b[1;33m\u001b[0m\u001b[1;33m\u001b[0m\u001b[0m\n\u001b[0m",
      "\u001b[1;32m~\\Dropbox (Personal)\\GitLab\\FDL\\pipeline\\create_modis.py\u001b[0m in \u001b[0;36mrun\u001b[1;34m(path, save_dir)\u001b[0m\n\u001b[0;32m     17\u001b[0m         \u001b[1;32mfor\u001b[0m \u001b[0mmatch\u001b[0m \u001b[1;32min\u001b[0m \u001b[0mfilenames\u001b[0m\u001b[1;33m:\u001b[0m\u001b[1;33m\u001b[0m\u001b[1;33m\u001b[0m\u001b[0m\n\u001b[0;32m     18\u001b[0m                 \u001b[0mparts\u001b[0m \u001b[1;33m=\u001b[0m \u001b[0mmatch\u001b[0m\u001b[1;33m[\u001b[0m\u001b[1;36m0\u001b[0m\u001b[1;33m]\u001b[0m\u001b[1;33m.\u001b[0m\u001b[0msplit\u001b[0m\u001b[1;33m(\u001b[0m\u001b[1;34m'.'\u001b[0m\u001b[1;33m)\u001b[0m\u001b[1;33m\u001b[0m\u001b[1;33m\u001b[0m\u001b[0m\n\u001b[1;32m---> 19\u001b[1;33m                 \u001b[0mdump_array\u001b[0m \u001b[1;33m=\u001b[0m \u001b[0mget_arrays\u001b[0m\u001b[1;33m(\u001b[0m\u001b[0mmatch\u001b[0m\u001b[1;33m)\u001b[0m\u001b[1;33m\u001b[0m\u001b[1;33m\u001b[0m\u001b[0m\n\u001b[0m\u001b[0;32m     20\u001b[0m                 \u001b[0mdump_filename\u001b[0m \u001b[1;33m=\u001b[0m \u001b[0mparts\u001b[0m\u001b[1;33m[\u001b[0m\u001b[1;36m2\u001b[0m\u001b[1;33m]\u001b[0m\u001b[1;33m.\u001b[0m\u001b[0mreplace\u001b[0m\u001b[1;33m(\u001b[0m\u001b[1;34m'A'\u001b[0m\u001b[1;33m,\u001b[0m\u001b[1;34m''\u001b[0m\u001b[1;33m)\u001b[0m \u001b[1;33m+\u001b[0m \u001b[1;34m'_'\u001b[0m \u001b[1;33m+\u001b[0m \u001b[0mparts\u001b[0m\u001b[1;33m[\u001b[0m\u001b[1;36m3\u001b[0m\u001b[1;33m]\u001b[0m \u001b[1;33m+\u001b[0m \u001b[1;34m'.pkl'\u001b[0m\u001b[1;33m\u001b[0m\u001b[1;33m\u001b[0m\u001b[0m\n\u001b[0;32m     21\u001b[0m                 \u001b[1;32mwith\u001b[0m \u001b[0mopen\u001b[0m\u001b[1;33m(\u001b[0m\u001b[0msave_dir\u001b[0m \u001b[1;33m+\u001b[0m \u001b[0mdump_filename\u001b[0m\u001b[1;33m,\u001b[0m \u001b[1;34m'wb'\u001b[0m\u001b[1;33m)\u001b[0m \u001b[1;32mas\u001b[0m \u001b[0mf\u001b[0m\u001b[1;33m:\u001b[0m\u001b[1;33m\u001b[0m\u001b[1;33m\u001b[0m\u001b[0m\n",
      "\u001b[1;32m~\\Dropbox (Personal)\\GitLab\\FDL\\pipeline\\create_modis.py\u001b[0m in \u001b[0;36mget_arrays\u001b[1;34m(files)\u001b[0m\n\u001b[0;32m     50\u001b[0m         \u001b[1;31m# expects filenames to be radiance then geoloc\u001b[0m\u001b[1;33m\u001b[0m\u001b[1;33m\u001b[0m\u001b[1;33m\u001b[0m\u001b[0m\n\u001b[0;32m     51\u001b[0m         \u001b[1;31m# filenames must be in specific format, chop off beginning to work\u001b[0m\u001b[1;33m\u001b[0m\u001b[1;33m\u001b[0m\u001b[1;33m\u001b[0m\u001b[0m\n\u001b[1;32m---> 52\u001b[1;33m         \u001b[0mglobal_scene\u001b[0m \u001b[1;33m=\u001b[0m \u001b[0mScene\u001b[0m\u001b[1;33m(\u001b[0m\u001b[0mreader\u001b[0m\u001b[1;33m=\u001b[0m\u001b[1;34m'modis_l1b'\u001b[0m\u001b[1;33m,\u001b[0m \u001b[0mfilenames\u001b[0m\u001b[1;33m=\u001b[0m\u001b[0mfiles\u001b[0m\u001b[1;33m)\u001b[0m\u001b[1;33m\u001b[0m\u001b[1;33m\u001b[0m\u001b[0m\n\u001b[0m\u001b[0;32m     53\u001b[0m \u001b[1;33m\u001b[0m\u001b[0m\n\u001b[0;32m     54\u001b[0m         \u001b[1;31m# print available_composites\u001b[0m\u001b[1;33m\u001b[0m\u001b[1;33m\u001b[0m\u001b[1;33m\u001b[0m\u001b[0m\n",
      "\u001b[1;32m~\\.conda\\envs\\EOSci\\lib\\site-packages\\satpy\\scene.py\u001b[0m in \u001b[0;36m__init__\u001b[1;34m(self, filenames, reader, filter_parameters, reader_kwargs, ppp_config_dir, base_dir, sensor, start_time, end_time, area)\u001b[0m\n\u001b[0;32m    154\u001b[0m         self.readers = self.create_reader_instances(filenames=filenames,\n\u001b[0;32m    155\u001b[0m                                                     \u001b[0mreader\u001b[0m\u001b[1;33m=\u001b[0m\u001b[0mreader\u001b[0m\u001b[1;33m,\u001b[0m\u001b[1;33m\u001b[0m\u001b[1;33m\u001b[0m\u001b[0m\n\u001b[1;32m--> 156\u001b[1;33m                                                     reader_kwargs=reader_kwargs)\n\u001b[0m\u001b[0;32m    157\u001b[0m         \u001b[0mself\u001b[0m\u001b[1;33m.\u001b[0m\u001b[0mattrs\u001b[0m\u001b[1;33m.\u001b[0m\u001b[0mupdate\u001b[0m\u001b[1;33m(\u001b[0m\u001b[0mself\u001b[0m\u001b[1;33m.\u001b[0m\u001b[0m_compute_metadata_from_readers\u001b[0m\u001b[1;33m(\u001b[0m\u001b[1;33m)\u001b[0m\u001b[1;33m)\u001b[0m\u001b[1;33m\u001b[0m\u001b[1;33m\u001b[0m\u001b[0m\n\u001b[0;32m    158\u001b[0m         \u001b[0mself\u001b[0m\u001b[1;33m.\u001b[0m\u001b[0mdatasets\u001b[0m \u001b[1;33m=\u001b[0m \u001b[0mDatasetDict\u001b[0m\u001b[1;33m(\u001b[0m\u001b[1;33m)\u001b[0m\u001b[1;33m\u001b[0m\u001b[1;33m\u001b[0m\u001b[0m\n",
      "\u001b[1;32m~\\.conda\\envs\\EOSci\\lib\\site-packages\\satpy\\scene.py\u001b[0m in \u001b[0;36mcreate_reader_instances\u001b[1;34m(self, filenames, reader, reader_kwargs)\u001b[0m\n\u001b[0;32m    199\u001b[0m                             \u001b[0mreader\u001b[0m\u001b[1;33m=\u001b[0m\u001b[0mreader\u001b[0m\u001b[1;33m,\u001b[0m\u001b[1;33m\u001b[0m\u001b[1;33m\u001b[0m\u001b[0m\n\u001b[0;32m    200\u001b[0m                             \u001b[0mreader_kwargs\u001b[0m\u001b[1;33m=\u001b[0m\u001b[0mreader_kwargs\u001b[0m\u001b[1;33m,\u001b[0m\u001b[1;33m\u001b[0m\u001b[1;33m\u001b[0m\u001b[0m\n\u001b[1;32m--> 201\u001b[1;33m                             ppp_config_dir=self.ppp_config_dir)\n\u001b[0m\u001b[0;32m    202\u001b[0m \u001b[1;33m\u001b[0m\u001b[0m\n\u001b[0;32m    203\u001b[0m     \u001b[1;33m@\u001b[0m\u001b[0mproperty\u001b[0m\u001b[1;33m\u001b[0m\u001b[1;33m\u001b[0m\u001b[0m\n",
      "\u001b[1;32m~\\.conda\\envs\\EOSci\\lib\\site-packages\\satpy\\readers\\__init__.py\u001b[0m in \u001b[0;36mload_readers\u001b[1;34m(filenames, reader, reader_kwargs, ppp_config_dir)\u001b[0m\n\u001b[0;32m    732\u001b[0m         \u001b[0mLOG\u001b[0m\u001b[1;33m.\u001b[0m\u001b[0mwarning\u001b[0m\u001b[1;33m(\u001b[0m\u001b[1;34m\"Don't know how to open the following files: {}\"\u001b[0m\u001b[1;33m.\u001b[0m\u001b[0mformat\u001b[0m\u001b[1;33m(\u001b[0m\u001b[0mstr\u001b[0m\u001b[1;33m(\u001b[0m\u001b[0mremaining_filenames\u001b[0m\u001b[1;33m)\u001b[0m\u001b[1;33m)\u001b[0m\u001b[1;33m)\u001b[0m\u001b[1;33m\u001b[0m\u001b[1;33m\u001b[0m\u001b[0m\n\u001b[0;32m    733\u001b[0m     \u001b[1;32mif\u001b[0m \u001b[1;32mnot\u001b[0m \u001b[0mreader_instances\u001b[0m\u001b[1;33m:\u001b[0m\u001b[1;33m\u001b[0m\u001b[1;33m\u001b[0m\u001b[0m\n\u001b[1;32m--> 734\u001b[1;33m         \u001b[1;32mraise\u001b[0m \u001b[0mValueError\u001b[0m\u001b[1;33m(\u001b[0m\u001b[1;34m\"No supported files found\"\u001b[0m\u001b[1;33m)\u001b[0m\u001b[1;33m\u001b[0m\u001b[1;33m\u001b[0m\u001b[0m\n\u001b[0m\u001b[0;32m    735\u001b[0m     \u001b[1;32melif\u001b[0m \u001b[1;32mnot\u001b[0m \u001b[0many\u001b[0m\u001b[1;33m(\u001b[0m\u001b[0mlist\u001b[0m\u001b[1;33m(\u001b[0m\u001b[0mr\u001b[0m\u001b[1;33m.\u001b[0m\u001b[0mavailable_dataset_ids\u001b[0m\u001b[1;33m)\u001b[0m \u001b[1;32mfor\u001b[0m \u001b[0mr\u001b[0m \u001b[1;32min\u001b[0m \u001b[0mreader_instances\u001b[0m\u001b[1;33m.\u001b[0m\u001b[0mvalues\u001b[0m\u001b[1;33m(\u001b[0m\u001b[1;33m)\u001b[0m\u001b[1;33m)\u001b[0m\u001b[1;33m:\u001b[0m\u001b[1;33m\u001b[0m\u001b[1;33m\u001b[0m\u001b[0m\n\u001b[0;32m    736\u001b[0m         raise ValueError(\"No dataset could be loaded. Either missing \"\n",
      "\u001b[1;31mValueError\u001b[0m: No supported files found"
     ]
    }
   ],
   "source": [
    "create_modis.run(path=\"../DATA/modis-l1/2008/2008/057/\", save_dir=\"../DATA/output/\")"
   ]
  },
  {
   "cell_type": "markdown",
   "metadata": {},
   "source": [
    "## Tile extraction\n",
    "Now to randomly sample down the swaths."
   ]
  },
  {
   "cell_type": "code",
   "execution_count": 72,
   "metadata": {},
   "outputs": [
    {
     "ename": "ValueError",
     "evalue": "Only odd-sized tile sizes accepted.",
     "output_type": "error",
     "traceback": [
      "\u001b[1;31m---------------------------------------------------------------------------\u001b[0m",
      "\u001b[1;31mValueError\u001b[0m                                Traceback (most recent call last)",
      "\u001b[1;32m<ipython-input-72-1c740e4c623b>\u001b[0m in \u001b[0;36m<module>\u001b[1;34m\u001b[0m\n\u001b[0;32m      8\u001b[0m \u001b[1;33m\u001b[0m\u001b[0m\n\u001b[0;32m      9\u001b[0m \u001b[1;32mfor\u001b[0m \u001b[0mfile\u001b[0m \u001b[1;32min\u001b[0m \u001b[0mpaths\u001b[0m\u001b[1;33m:\u001b[0m\u001b[1;33m\u001b[0m\u001b[1;33m\u001b[0m\u001b[0m\n\u001b[1;32m---> 10\u001b[1;33m     \u001b[0mextract_payload\u001b[0m\u001b[1;33m.\u001b[0m\u001b[0mrandom_tile_extract_from_file\u001b[0m\u001b[1;33m(\u001b[0m\u001b[0mfile_in\u001b[0m\u001b[1;33m=\u001b[0m\u001b[0mfile\u001b[0m\u001b[1;33m,\u001b[0m \u001b[0mpayload_path\u001b[0m\u001b[1;33m=\u001b[0m\u001b[1;34m\"../DATA/tiles/payload/\"\u001b[0m\u001b[1;33m,\u001b[0m \u001b[0mmetadata_path\u001b[0m\u001b[1;33m=\u001b[0m\u001b[1;34m\"../DATA/tiles/metadata\"\u001b[0m\u001b[1;33m,\u001b[0m \u001b[0mtile_size\u001b[0m\u001b[1;33m=\u001b[0m\u001b[1;36m10\u001b[0m\u001b[1;33m)\u001b[0m\u001b[1;33m\u001b[0m\u001b[1;33m\u001b[0m\u001b[0m\n\u001b[0m",
      "\u001b[1;32m~\\Dropbox (Personal)\\GitLab\\FDL\\pipeline\\extract_payload.py\u001b[0m in \u001b[0;36mrandom_tile_extract_from_file\u001b[1;34m(file_in, payload_path, metadata_path, tile_size)\u001b[0m\n\u001b[0;32m     17\u001b[0m \u001b[1;33m\u001b[0m\u001b[0m\n\u001b[0;32m     18\u001b[0m     \u001b[0moffset\u001b[0m \u001b[1;33m=\u001b[0m \u001b[0mtile_size\u001b[0m \u001b[1;33m//\u001b[0m \u001b[1;36m2\u001b[0m\u001b[1;33m\u001b[0m\u001b[1;33m\u001b[0m\u001b[0m\n\u001b[1;32m---> 19\u001b[1;33m \u001b[1;33m\u001b[0m\u001b[0m\n\u001b[0m\u001b[0;32m     20\u001b[0m     \u001b[0mpayload\u001b[0m \u001b[1;33m=\u001b[0m \u001b[1;33m[\u001b[0m\u001b[1;33m]\u001b[0m\u001b[1;33m\u001b[0m\u001b[1;33m\u001b[0m\u001b[0m\n\u001b[0;32m     21\u001b[0m     \u001b[0mmetadata\u001b[0m \u001b[1;33m=\u001b[0m \u001b[1;33m[\u001b[0m\u001b[1;33m]\u001b[0m\u001b[1;33m\u001b[0m\u001b[1;33m\u001b[0m\u001b[0m\n",
      "\u001b[1;31mValueError\u001b[0m: Only odd-sized tile sizes accepted."
     ]
    }
   ],
   "source": [
    "import extract_payload\n",
    "import os\n",
    "\n",
    "paths = []\n",
    "for roots, dirs, files in os.walk(\"../DATA/output/\"):\n",
    "    for file in files:\n",
    "        paths.append(os.path.join(roots, file))\n",
    "\n",
    "for file in paths:\n",
    "    extract_payload.random_tile_extract_from_file(file_in=file, payload_path=\"../DATA/tiles/payload/\", metadata_path=\"../DATA/tiles/metadata\", tile_size=10)"
   ]
  },
  {
   "cell_type": "code",
   "execution_count": 8,
   "metadata": {},
   "outputs": [],
   "source": [
    "walk_results = os.walk(\"../DATA/\")"
   ]
  },
  {
   "cell_type": "code",
   "execution_count": 11,
   "metadata": {},
   "outputs": [
    {
     "name": "stdout",
     "output_type": "stream",
     "text": [
      "ROOT:  ../DATA/.ipynb_checkpoints\n",
      "DIRS:  []\n",
      "FILES  []\n",
      "ROOT:  ../DATA/modis-l1\n",
      "DIRS:  ['2008']\n",
      "FILES  []\n",
      "ROOT:  ../DATA/modis-l1\\2008\n",
      "DIRS:  ['2008']\n",
      "FILES  []\n",
      "ROOT:  ../DATA/modis-l1\\2008\\2008\n",
      "DIRS:  ['056', '057']\n",
      "FILES  []\n",
      "ROOT:  ../DATA/modis-l1\\2008\\2008\\056\n",
      "DIRS:  []\n",
      "FILES  ['MOD021KM.A2008056.0755.061.2017255070653.hdf', 'MOD021KM.A2008056.0935.061.2017255070241.hdf', 'MOD021KM.A2008056.1115.061.2017255070329.hdf', 'MOD03.A2008056.0755.061.2017255030609.hdf', 'MOD03.A2008056.0935.061.2017255030503.hdf', 'MOD03.A2008056.1115.061.2017255030626.hdf']\n",
      "ROOT:  ../DATA/modis-l1\\2008\\2008\\057\n",
      "DIRS:  []\n",
      "FILES  ['MOD021KM.A2008057.0210.061.2017255035742.hdf', 'MOD021KM.A2008057.0215.061.2017255035524.hdf', 'MOD021KM.A2008057.0345.061.2017255035604.hdf', 'MOD021KM.A2008057.0350.061.2017255035558.hdf', 'MOD021KM.A2008057.0520.061.2017255035814.hdf', 'MOD021KM.A2008057.0525.061.2017255035638.hdf', 'MOD021KM.A2008057.0700.061.2017255035619.hdf', 'MOD021KM.A2008057.0840.061.2017255035846.hdf', 'MOD03.A2008057.0210.061.2017255005917.hdf', 'MOD03.A2008057.0215.061.2017255005922.hdf', 'MOD03.A2008057.0345.061.2017255010136.hdf', 'MOD03.A2008057.0350.061.2017255005942.hdf', 'MOD03.A2008057.0520.061.2017255010034.hdf', 'MOD03.A2008057.0525.061.2017255010033.hdf', 'MOD03.A2008057.0700.061.2017255010039.hdf', 'MOD03.A2008057.0840.061.2017255005954.hdf']\n",
      "ROOT:  ../DATA/output\n",
      "DIRS:  []\n",
      "FILES  ['2008056_0755.pkl', '2008056_0935.pkl', '2008056_1115.pkl', '2008057_0210.pkl', '2008057_0215.pkl', '2008057_0345.pkl', '2008057_0350.pkl', '2008057_0520.pkl', '2008057_0525.pkl', '2008057_0700.pkl', '2008057_0840.pkl']\n",
      "ROOT:  ../DATA/tiles\n",
      "DIRS:  ['metadata', 'payload']\n",
      "FILES  []\n",
      "ROOT:  ../DATA/tiles\\metadata\n",
      "DIRS:  []\n",
      "FILES  ['metadata_2008057_0210.npy', 'metadata_2008057_0215.npy', 'metadata_2008057_0345.npy', 'metadata_2008057_0350.npy', 'metadata_2008057_0520.npy', 'metadata_2008057_0525.npy', 'metadata_2008057_0700.npy', 'metadata_2008057_0840.npy']\n",
      "ROOT:  ../DATA/tiles\\payload\n",
      "DIRS:  []\n",
      "FILES  ['payload_2008057_0210.npy', 'payload_2008057_0215.npy', 'payload_2008057_0345.npy', 'payload_2008057_0350.npy', 'payload_2008057_0520.npy', 'payload_2008057_0525.npy', 'payload_2008057_0700.npy', 'payload_2008057_0840.npy']\n"
     ]
    }
   ],
   "source": [
    "for root, dirs, files in walk_results:\n",
    "    print (\"ROOT:  {}\".format(root))\n",
    "    print (\"DIRS:  {}\".format(dirs))\n",
    "    print (\"FILES  {}\".format(files))"
   ]
  },
  {
   "cell_type": "code",
   "execution_count": 32,
   "metadata": {},
   "outputs": [],
   "source": [
    "file_paths = []"
   ]
  },
  {
   "cell_type": "code",
   "execution_count": 17,
   "metadata": {},
   "outputs": [
    {
     "data": {
      "text/plain": [
       "[]"
      ]
     },
     "execution_count": 17,
     "metadata": {},
     "output_type": "execute_result"
    }
   ],
   "source": [
    "file_paths"
   ]
  },
  {
   "cell_type": "code",
   "execution_count": 74,
   "metadata": {},
   "outputs": [],
   "source": [
    "import numpy as np"
   ]
  },
  {
   "cell_type": "code",
   "execution_count": 79,
   "metadata": {},
   "outputs": [],
   "source": [
    "a = np.load(\"../DATA/tiles/payload/payload_2008057_0840.npy\")"
   ]
  },
  {
   "cell_type": "code",
   "execution_count": 80,
   "metadata": {},
   "outputs": [
    {
     "data": {
      "text/plain": [
       "(2020, 15, 10, 10)"
      ]
     },
     "execution_count": 80,
     "metadata": {},
     "output_type": "execute_result"
    }
   ],
   "source": [
    "a.shape"
   ]
  },
  {
   "cell_type": "code",
   "execution_count": null,
   "metadata": {},
   "outputs": [],
   "source": []
  }
 ],
 "metadata": {
  "kernelspec": {
   "display_name": "Python 3",
   "language": "python",
   "name": "python3"
  },
  "language_info": {
   "codemirror_mode": {
    "name": "ipython",
    "version": 3
   },
   "file_extension": ".py",
   "mimetype": "text/x-python",
   "name": "python",
   "nbconvert_exporter": "python",
   "pygments_lexer": "ipython3",
   "version": "3.7.3"
  }
 },
 "nbformat": 4,
 "nbformat_minor": 2
}
